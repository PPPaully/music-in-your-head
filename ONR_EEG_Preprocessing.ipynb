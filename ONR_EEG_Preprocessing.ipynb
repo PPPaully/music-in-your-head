{
 "cells": [
  {
   "cell_type": "code",
   "execution_count": null,
   "id": "a1a38848-c4c3-4540-b29f-9183b5e263b9",
   "metadata": {
    "tags": []
   },
   "outputs": [],
   "source": [
    "import os\n",
    "import pandas as pd\n",
    "import numpy as np\n",
    "import matplotlib.pyplot as plt\n",
    "from IPython.display import Audio, display\n",
    "\n",
    "import mne"
   ]
  },
  {
   "cell_type": "markdown",
   "id": "ca46a09c-3cd6-41a7-b182-7f03ec756d55",
   "metadata": {},
   "source": [
    "# Dataset"
   ]
  },
  {
   "cell_type": "markdown",
   "id": "5474d407-7116-4a5e-9e96-3c1ed21b886c",
   "metadata": {
    "tags": []
   },
   "source": [
    "[Link to OpenNeuro](https://openneuro.org/datasets/ds002725/versions/1.0.0)  \n",
    "[Link to Paper](https://www.nature.com/articles/s41598-019-45105-2)  "
   ]
  },
  {
   "cell_type": "markdown",
   "id": "89f7db14-fdec-400e-9409-3190686eb8ab",
   "metadata": {},
   "source": [
    "**Recording**  \n",
    "\n",
    "EEG was recorded via a 32 channel (31 channel EEG and 1 channel electrocardiogram) MRI-compatible BrainAmp MR and BrainCap MR EEG system (Brain Products Inc., Germany). EEG was recorded `at 5,000 Hz, without filtering` (an analogous approach to [60]), and with an amplitude resolution of 0.5uV. The reference electrode was placed at FCz. All electrodes were placed according to `the International 10/20 system`. Impedances were kept below 15kΩ throughout the experiments."
   ]
  },
  {
   "cell_type": "markdown",
   "id": "66839b78-d800-4ecb-9c1e-4d348207499c",
   "metadata": {},
   "source": [
    "**Preprocessing**  \n",
    "\n",
    "The imaging artefact was first attenuated using the Average Artefact Subtraction (AAS) method62, as implemented in Vision Analyzer software (BrainProducts). The ballisto-cardiogram artefact was also removed from the EEG via the AAS method. The cleaned EEG was then visually checked to confirm successful attenuation of the artefacts."
   ]
  },
  {
   "cell_type": "code",
   "execution_count": null,
   "id": "ed6d64f6-3a81-4e98-b02b-e3223f52b1e1",
   "metadata": {
    "tags": [
     "parameters"
    ]
   },
   "outputs": [],
   "source": [
    "SUB_ID = '01'\n",
    "GEN_ID = '01'\n",
    "EXT_ROOT = ''\n",
    "SAVE_PATH = 'preprocessing/data/'"
   ]
  },
  {
   "cell_type": "code",
   "execution_count": null,
   "id": "b62ad4c1-84bb-4043-a5a9-71490c16cfd6",
   "metadata": {
    "tags": []
   },
   "outputs": [],
   "source": [
    "# FILE_PATH = 'data/openneuro/sub-01/eeg/sub-01_task-genMusic01_eeg.edf'\n",
    "ROOT_PATH = f'data/openneuro/sub-{SUB_ID}/eeg'\n",
    "RAW_FILE = f'sub-{SUB_ID}_task-genMusic{GEN_ID}_eeg.edf'\n",
    "INFO_FILE = f'sub-{SUB_ID}_task-genMusic{GEN_ID}_channels.tsv'\n",
    "raw = mne.io.read_raw_edf(os.path.join(EXT_ROOT, ROOT_PATH, RAW_FILE))"
   ]
  },
  {
   "cell_type": "code",
   "execution_count": null,
   "id": "2acbb13f-b456-4695-864e-ced480bb052a",
   "metadata": {
    "tags": []
   },
   "outputs": [],
   "source": [
    "raw.info"
   ]
  },
  {
   "cell_type": "markdown",
   "id": "3e5ec30e-c092-43b7-9f5e-c5f06dc4caba",
   "metadata": {
    "tags": []
   },
   "source": [
    "# Channels Info"
   ]
  },
  {
   "cell_type": "code",
   "execution_count": null,
   "id": "6cc51db0-0a47-436f-9ab7-a1ba0f016397",
   "metadata": {
    "scrolled": true,
    "tags": []
   },
   "outputs": [],
   "source": [
    "ch_info = pd.read_csv(os.path.join(ROOT_PATH, INFO_FILE), sep='\\t')\n",
    "ch_info"
   ]
  },
  {
   "cell_type": "code",
   "execution_count": null,
   "id": "f3c5600e-4fa4-402d-b4b7-25a0fe52e11d",
   "metadata": {
    "tags": []
   },
   "outputs": [],
   "source": [
    "ch_mapping = {\n",
    "    'EEG': 'eeg',\n",
    "    'ECG': 'ecg',\n",
    "    'response': 'resp',\n",
    "    'reponse': 'resp', # typo\n",
    "    'stimuli': 'stim'\n",
    "}\n",
    "ch_types = dict(zip(raw.ch_names, ch_info['type'].apply(lambda x: ch_mapping[x])))\n",
    "raw.set_channel_types(ch_types)"
   ]
  },
  {
   "cell_type": "markdown",
   "id": "0bb83e54-694c-45d6-9316-3e627ba12ada",
   "metadata": {},
   "source": [
    "# Basic Plotting"
   ]
  },
  {
   "cell_type": "code",
   "execution_count": null,
   "id": "3ddad0ee-4636-488d-a4c7-18fb9ad38028",
   "metadata": {
    "tags": []
   },
   "outputs": [],
   "source": [
    "%matplotlib inline\n",
    "_ = raw.plot(n_channels=31, scalings='1e-4')"
   ]
  },
  {
   "cell_type": "code",
   "execution_count": null,
   "id": "25bae62a-1aac-4f72-a201-72011164b2ad",
   "metadata": {
    "tags": []
   },
   "outputs": [],
   "source": [
    "montage_1020 = mne.channels.make_standard_montage('standard_1020')\n",
    "raw.set_montage(montage_1020, on_missing='ignore')  # ignore other channels"
   ]
  },
  {
   "cell_type": "code",
   "execution_count": null,
   "id": "33e0abb4-4c6b-43fb-8df8-35b0e9f6b786",
   "metadata": {
    "tags": []
   },
   "outputs": [],
   "source": [
    "%matplotlib inline\n",
    "_ = raw.plot_sensors(show_names=True)"
   ]
  },
  {
   "cell_type": "markdown",
   "id": "2fa129ca-d56a-4699-a857-3468c324161d",
   "metadata": {
    "tags": []
   },
   "source": [
    "# PSD"
   ]
  },
  {
   "cell_type": "markdown",
   "id": "533ce679-1aac-4b7d-b32d-2cc63d77323a",
   "metadata": {},
   "source": [
    "[Link to MNE](https://mne.tools/stable/auto_tutorials/raw/40_visualize_raw.html)"
   ]
  },
  {
   "cell_type": "code",
   "execution_count": null,
   "id": "44527f6b-3f1c-45fd-858b-ff0966a14e37",
   "metadata": {
    "tags": []
   },
   "outputs": [],
   "source": [
    "data_channels = raw.ch_names[:31]"
   ]
  },
  {
   "cell_type": "markdown",
   "id": "76079205-9cc2-4108-b375-038db40450b9",
   "metadata": {},
   "source": [
    "## Power line noise"
   ]
  },
  {
   "cell_type": "code",
   "execution_count": null,
   "id": "c8c5a54c-58f8-4d31-85c6-d997203bacfa",
   "metadata": {
    "tags": []
   },
   "outputs": [],
   "source": [
    "%matplotlib inline\n",
    "def add_arrows(axes):\n",
    "    # add some arrows at 60 Hz and its harmonics\n",
    "    for ax in axes:\n",
    "        freqs = ax.lines[-1].get_xdata()\n",
    "        psds = ax.lines[-1].get_ydata()\n",
    "        for freq in (60, 120, 180, 240):\n",
    "            idx = np.searchsorted(freqs, freq)\n",
    "            # get ymax of a small region around the freq. of interest\n",
    "            y = psds[(idx - 4) : (idx + 5)].max()\n",
    "            ax.arrow(\n",
    "                x=freqs[idx],\n",
    "                y=y + 18,\n",
    "                dx=0,\n",
    "                dy=-12,\n",
    "                color=\"red\",\n",
    "                width=0.1,\n",
    "                head_width=3,\n",
    "                length_includes_head=True,\n",
    "            )\n",
    "\n",
    "psd = raw.compute_psd(fmax=250).plot(average=True, picks=\"data\", exclude=\"bads\")\n",
    "add_arrows(psd.axes[:2])"
   ]
  },
  {
   "cell_type": "markdown",
   "id": "1d3bec2b-3ff6-482d-8677-76a435372a14",
   "metadata": {},
   "source": [
    "### TODO: Notch Filter"
   ]
  },
  {
   "cell_type": "markdown",
   "id": "95882254-6ff1-47e3-8046-5a37dce26d62",
   "metadata": {},
   "source": [
    "If figure above have peaks at power line's frequencies"
   ]
  },
  {
   "cell_type": "markdown",
   "id": "841457d4-cbd1-4bc9-8fe9-03b6cd3fa7aa",
   "metadata": {},
   "source": [
    "## By Brain wavelength"
   ]
  },
  {
   "cell_type": "code",
   "execution_count": null,
   "id": "37784588-1d0b-430e-8e4a-7d7bb8e56c59",
   "metadata": {},
   "outputs": [],
   "source": [
    "# %matplotlib tk\n",
    "# psd = raw.compute_psd(fmax=35, picks=data_channels)\n",
    "# _ = psd.plot(picks='data')"
   ]
  },
  {
   "cell_type": "code",
   "execution_count": null,
   "id": "611d8338-4bc6-487e-835b-635317811922",
   "metadata": {
    "tags": []
   },
   "outputs": [],
   "source": [
    "%matplotlib inline\n",
    "psd = raw.compute_psd(fmin=0.5, fmax=45, picks=data_channels)\n",
    "_ = psd.plot(picks='data', average=True)"
   ]
  },
  {
   "cell_type": "code",
   "execution_count": null,
   "id": "e6d95b9a-0365-4728-9639-3bbfd6572859",
   "metadata": {
    "tags": []
   },
   "outputs": [],
   "source": [
    "%matplotlib inline\n",
    "_ = psd.plot_topomap()"
   ]
  },
  {
   "cell_type": "markdown",
   "id": "886c990f-55a2-46e0-a6cf-076a9ff80883",
   "metadata": {},
   "source": [
    "# Preprocessing"
   ]
  },
  {
   "cell_type": "markdown",
   "id": "6b5a1a0d-3c2c-44b3-9155-c5307bdf6b6f",
   "metadata": {},
   "source": [
    "[See Best Practices](https://mne.tools/stable/auto_tutorials/preprocessing/30_filtering_resampling.html#best-practices)"
   ]
  },
  {
   "cell_type": "markdown",
   "id": "9836b92b-85da-4dcf-8bf7-b9ba66851506",
   "metadata": {},
   "source": [
    "## Remove Bad Channels"
   ]
  },
  {
   "cell_type": "code",
   "execution_count": null,
   "id": "f04cc54e-c350-429d-82ac-3da5ef326596",
   "metadata": {
    "tags": []
   },
   "outputs": [],
   "source": [
    "assert len(raw.info['bads']) == 0\n",
    "raw.info['bads']"
   ]
  },
  {
   "cell_type": "markdown",
   "id": "e883869f-7827-4d12-9d55-e4645d01c25b",
   "metadata": {},
   "source": [
    "## Setting"
   ]
  },
  {
   "cell_type": "code",
   "execution_count": null,
   "id": "ef253a61-1d2a-416a-88a8-4cb45bbf73c7",
   "metadata": {
    "tags": []
   },
   "outputs": [],
   "source": [
    "current_sfreq = raw.info[\"sfreq\"]\n",
    "desired_sfreq = 512  # Hz\n",
    "decim = np.round(current_sfreq / desired_sfreq).astype(int)\n",
    "obtained_sfreq = current_sfreq / decim\n",
    "lowpass_freq = obtained_sfreq / 3.0"
   ]
  },
  {
   "cell_type": "markdown",
   "id": "a5648cd4-e22b-4ff1-8222-1e743a65a7b1",
   "metadata": {},
   "source": [
    "## Low-pass filtering"
   ]
  },
  {
   "cell_type": "code",
   "execution_count": null,
   "id": "f1466e99-eca8-46c4-939d-57b9c4f56695",
   "metadata": {
    "tags": []
   },
   "outputs": [],
   "source": [
    "raw_filtered = raw.load_data().copy().filter(l_freq=None, h_freq=lowpass_freq)"
   ]
  },
  {
   "cell_type": "markdown",
   "id": "9bf03c43-5b4b-4467-b56d-a23213696a27",
   "metadata": {
    "tags": []
   },
   "source": [
    "## Re-compute Music events"
   ]
  },
  {
   "cell_type": "code",
   "execution_count": null,
   "id": "42b79ae1-db18-4c97-b354-47ae4853be80",
   "metadata": {
    "tags": []
   },
   "outputs": [],
   "source": [
    "ch_music = raw_filtered.ch_names.index('music')\n",
    "ch_info.iloc[ch_music].status_description"
   ]
  },
  {
   "cell_type": "code",
   "execution_count": null,
   "id": "a96117cf-0165-4334-8267-f8f825bfe157",
   "metadata": {
    "tags": []
   },
   "outputs": [],
   "source": [
    "raw_filtered.apply_function(lambda x: np.round(x * 20 * 1e6).astype(int), picks='music')"
   ]
  },
  {
   "cell_type": "code",
   "execution_count": null,
   "id": "b348848d-634c-495e-92c7-7f0db393309f",
   "metadata": {
    "tags": []
   },
   "outputs": [],
   "source": [
    "events = mne.find_events(raw_filtered, stim_channel='music', consecutive=True)"
   ]
  },
  {
   "cell_type": "code",
   "execution_count": null,
   "id": "bc73166e-f281-406d-85f5-da10bab81861",
   "metadata": {
    "tags": []
   },
   "outputs": [],
   "source": [
    "music_ids = list(set(events[:, 2]))\n",
    "music_ids"
   ]
  },
  {
   "cell_type": "code",
   "execution_count": null,
   "id": "97dad12f-37a9-4f6a-8fc6-8c41ab0759cb",
   "metadata": {
    "tags": []
   },
   "outputs": [],
   "source": [
    "music_root = 'data/openneuro/stimuli/generated'\n",
    "music_files = list(map(lambda x: f'{x//100}-{x//10%10}_{x%10}.wav', music_ids))"
   ]
  },
  {
   "cell_type": "code",
   "execution_count": null,
   "id": "576982fa-2706-40cc-8a87-2db72afe06ab",
   "metadata": {
    "tags": []
   },
   "outputs": [],
   "source": [
    "%matplotlib inline\n",
    "_ = mne.viz.plot_events(events, event_id=dict(zip(music_files, music_ids)))"
   ]
  },
  {
   "cell_type": "markdown",
   "id": "11736bd9-aa18-4f27-b0b5-4e3751c3d723",
   "metadata": {
    "tags": []
   },
   "source": [
    "## Set Annotations"
   ]
  },
  {
   "cell_type": "code",
   "execution_count": null,
   "id": "331dd6c9-92c8-43b5-8f2a-7a18865e40b1",
   "metadata": {
    "tags": []
   },
   "outputs": [],
   "source": [
    "raw_filtered.annotations"
   ]
  },
  {
   "cell_type": "code",
   "execution_count": null,
   "id": "01b1dc1e-cb8e-4b45-a200-2d70e330cf5e",
   "metadata": {
    "tags": []
   },
   "outputs": [],
   "source": [
    "annot_from_events = mne.annotations_from_events(\n",
    "    events=events,\n",
    "    event_desc=dict(zip(music_ids, music_files)),\n",
    "    sfreq=raw_filtered.info[\"sfreq\"],\n",
    "    orig_time=raw_filtered.info[\"meas_date\"],\n",
    ")\n",
    "raw_filtered.set_annotations(annot_from_events)"
   ]
  },
  {
   "cell_type": "code",
   "execution_count": null,
   "id": "326419b7-c763-49eb-bf1f-e17f4ca72c38",
   "metadata": {
    "tags": []
   },
   "outputs": [],
   "source": [
    "%matplotlib inline\n",
    "_ = raw_filtered.plot(start=190, duration=60, n_channels=31, scalings='1e-4')"
   ]
  },
  {
   "cell_type": "markdown",
   "id": "c1137536-cbe1-4002-89f6-098399ec9775",
   "metadata": {
    "tags": []
   },
   "source": [
    "## Down-sampling"
   ]
  },
  {
   "cell_type": "markdown",
   "id": "104b3ab5-16f9-458b-9dcf-cc38ed204801",
   "metadata": {},
   "source": [
    "[About Sample Rate](https://www.researchgate.net/post/What_is_the_advantage_of_very_high_sampling_rates_in_EEG_systems)"
   ]
  },
  {
   "cell_type": "code",
   "execution_count": null,
   "id": "aaeb5a53-e68f-4ee7-bfb6-3e346bec01c7",
   "metadata": {},
   "outputs": [],
   "source": [
    "raw_filtered.resample(desired_sfreq)\n",
    "raw_filtered.set_eeg_reference()"
   ]
  },
  {
   "cell_type": "markdown",
   "id": "3a852f07-7a95-4463-99aa-7704b6769bb1",
   "metadata": {},
   "source": [
    "## Band Pass Filter"
   ]
  },
  {
   "cell_type": "code",
   "execution_count": null,
   "id": "83974a64-6d7c-477f-a9b4-6b724a43a2e4",
   "metadata": {
    "tags": []
   },
   "outputs": [],
   "source": [
    "raw_filtered.filter(l_freq=0.5, h_freq=100) # 100 hz for ICA first"
   ]
  },
  {
   "cell_type": "code",
   "execution_count": null,
   "id": "dcaa696a-c0e8-4b78-9756-35f1198120c3",
   "metadata": {
    "tags": []
   },
   "outputs": [],
   "source": [
    "%matplotlib inline\n",
    "_ = raw_filtered.plot(duration=40, n_channels=35, scalings='5e-4')"
   ]
  },
  {
   "cell_type": "markdown",
   "id": "3a992eb2-7b14-480b-b6d3-d2b4638f1843",
   "metadata": {},
   "source": [
    "## Remove Artifact with ICA"
   ]
  },
  {
   "cell_type": "code",
   "execution_count": null,
   "id": "6fc8c939-96cb-405d-ab52-90884147c433",
   "metadata": {
    "tags": []
   },
   "outputs": [],
   "source": [
    "ica = mne.preprocessing.ICA(\n",
    "    n_components=15,\n",
    "    max_iter=\"auto\",\n",
    "    method=\"infomax\",\n",
    "    random_state=42,\n",
    "    fit_params=dict(extended=True),\n",
    ")"
   ]
  },
  {
   "cell_type": "code",
   "execution_count": null,
   "id": "ae5f974c-4f6e-4db8-81e5-f6ffb697531c",
   "metadata": {
    "tags": []
   },
   "outputs": [],
   "source": [
    "ica.fit(raw_filtered, picks=data_channels)"
   ]
  },
  {
   "cell_type": "code",
   "execution_count": null,
   "id": "7194adb8-8eb6-4bc3-aff6-5e56129bd59a",
   "metadata": {
    "tags": []
   },
   "outputs": [],
   "source": [
    "%matplotlib inline\n",
    "_ = ica.plot_components(colorbar=True)"
   ]
  },
  {
   "cell_type": "code",
   "execution_count": null,
   "id": "fc485489-8971-4b52-917e-1d65f8ef15ba",
   "metadata": {
    "tags": []
   },
   "outputs": [],
   "source": [
    "%matplotlib inline\n",
    "_ = ica.plot_sources(raw_filtered)"
   ]
  },
  {
   "cell_type": "markdown",
   "id": "356be0b3-ad2e-4c88-844b-690cb240eed9",
   "metadata": {},
   "source": [
    "### Manual Selection [🔗](https://labeling.ucsd.edu/tutorial/labels)"
   ]
  },
  {
   "cell_type": "code",
   "execution_count": null,
   "id": "3a24bd5b-f022-43f8-b668-f05ee2672f98",
   "metadata": {
    "tags": []
   },
   "outputs": [],
   "source": [
    "# %matplotlib inline\n",
    "# _ = ica.plot_properties(raw_filtered, picks=[1], )"
   ]
  },
  {
   "cell_type": "markdown",
   "id": "bad89815-7137-4a13-a4a5-1ac1d6c16f23",
   "metadata": {},
   "source": [
    "### ICA Classification [🔗](https://mne.tools/mne-icalabel/stable/auto_examples/iclabel_automatic_artifact_correction_ica.html)"
   ]
  },
  {
   "cell_type": "code",
   "execution_count": null,
   "id": "d9f8a604-b260-4b27-aeeb-c769fe1c82a9",
   "metadata": {
    "tags": []
   },
   "outputs": [],
   "source": [
    "from mne_icalabel import label_components"
   ]
  },
  {
   "cell_type": "code",
   "execution_count": null,
   "id": "f9f77978-27dd-483b-9da4-24bba13090cb",
   "metadata": {
    "tags": []
   },
   "outputs": [],
   "source": [
    "cls_components = label_components(raw_filtered, ica, method=\"iclabel\")"
   ]
  },
  {
   "cell_type": "markdown",
   "id": "e2faf354-4690-43b8-b40f-f271b678f170",
   "metadata": {},
   "source": [
    "#### Label Components"
   ]
  },
  {
   "cell_type": "code",
   "execution_count": null,
   "id": "a02d1e0a-ce48-4bc9-836b-410e0514c863",
   "metadata": {
    "tags": []
   },
   "outputs": [],
   "source": [
    "ICA_THRESHOLD = 0.9\n",
    "REMOVE_BRAIN = False\n",
    "REMOVE_MUSCLE = True\n",
    "REMOVE_EOG = True\n",
    "REMOVE_ECG = False\n",
    "REMOVE_NOISE = True\n",
    "REMOVE_OTHER = False\n",
    "ica.exclude = []"
   ]
  },
  {
   "cell_type": "markdown",
   "id": "d57f46bb-b745-4e5d-b715-4d7d8a96206c",
   "metadata": {
    "tags": []
   },
   "source": [
    "##### Brain"
   ]
  },
  {
   "cell_type": "code",
   "execution_count": null,
   "id": "0ef539a9-aa8a-4390-b139-cf0bc125d169",
   "metadata": {},
   "outputs": [],
   "source": [
    "for idx in ica.labels_['brain']:\n",
    "    if REMOVE_BRAIN and cls_components['y_pred_proba'][idx] > ICA_THRESHOLD:\n",
    "        ica.exclude.append(idx)"
   ]
  },
  {
   "cell_type": "code",
   "execution_count": null,
   "id": "fa61bda3-5d4c-4805-94dd-8aefee278b32",
   "metadata": {},
   "outputs": [],
   "source": [
    "%matplotlib inline\n",
    "for pick in ica.labels_['brain']:\n",
    "    if pick in ica.exclude:\n",
    "        _ = ica.plot_properties(raw_filtered, picks=[pick])\n",
    "        print(f\"ICA{pick:03d}, Predict: {cls_components['labels'][pick]} ({cls_components['y_pred_proba'][pick]*100:.2f}%)\")"
   ]
  },
  {
   "cell_type": "markdown",
   "id": "0a66c50f-700a-4fb5-953b-365e172d71d6",
   "metadata": {},
   "source": [
    "##### Muscle"
   ]
  },
  {
   "cell_type": "code",
   "execution_count": null,
   "id": "d37ee032-d8dd-4a72-8b3d-60573055dae4",
   "metadata": {},
   "outputs": [],
   "source": [
    "for idx in ica.labels_['muscle']:\n",
    "    if REMOVE_MUSCLE and cls_components['y_pred_proba'][idx] > ICA_THRESHOLD:\n",
    "        ica.exclude.append(idx)"
   ]
  },
  {
   "cell_type": "code",
   "execution_count": null,
   "id": "f5d31cc2-5f92-47e8-b5e4-3fcfc32a875b",
   "metadata": {},
   "outputs": [],
   "source": [
    "%matplotlib inline\n",
    "for pick in ica.labels_['muscle']:\n",
    "    if pick in ica.exclude:\n",
    "        _ = ica.plot_properties(raw_filtered, picks=[pick])\n",
    "        print(f\"ICA{pick:03d}, Predict: {cls_components['labels'][pick]} ({cls_components['y_pred_proba'][pick]*100:.2f}%)\")"
   ]
  },
  {
   "cell_type": "markdown",
   "id": "424a51e8-be42-4071-9c2e-692eda8b7c2b",
   "metadata": {},
   "source": [
    "##### EOG (Eyes)"
   ]
  },
  {
   "cell_type": "code",
   "execution_count": null,
   "id": "4a946265-8179-49c2-9cb8-0b6fb4d11995",
   "metadata": {},
   "outputs": [],
   "source": [
    "for idx in ica.labels_['eog']:\n",
    "    if REMOVE_EOG and cls_components['y_pred_proba'][idx] > ICA_THRESHOLD:\n",
    "        ica.exclude.append(idx)"
   ]
  },
  {
   "cell_type": "code",
   "execution_count": null,
   "id": "7f493db9-8085-4c3f-a87b-651b26303f8f",
   "metadata": {},
   "outputs": [],
   "source": [
    "%matplotlib inline\n",
    "for pick in ica.labels_['eog']:\n",
    "    if pick in ica.exclude:\n",
    "        _ = ica.plot_properties(raw_filtered, picks=[pick])\n",
    "        print(f\"ICA{pick:03d}, Predict: {cls_components['labels'][pick]} ({cls_components['y_pred_proba'][pick]*100:.2f}%)\")"
   ]
  },
  {
   "cell_type": "markdown",
   "id": "4c7503fe-38e9-4309-b1d2-7b0e13fa91ec",
   "metadata": {},
   "source": [
    "##### ECG"
   ]
  },
  {
   "cell_type": "code",
   "execution_count": null,
   "id": "967c8cd8-874e-4e11-be97-1f162f110fee",
   "metadata": {},
   "outputs": [],
   "source": [
    "for idx in ica.labels_['ecg']:\n",
    "    if REMOVE_ECG and cls_components['y_pred_proba'][idx] > ICA_THRESHOLD:\n",
    "        ica.exclude.append(idx)"
   ]
  },
  {
   "cell_type": "code",
   "execution_count": null,
   "id": "4cb821de-6b7e-464e-9f2b-739d25b8b34e",
   "metadata": {},
   "outputs": [],
   "source": [
    "%matplotlib inline\n",
    "for pick in ica.labels_['ecg']:\n",
    "    if pick in ica.exclude:\n",
    "        _ = ica.plot_properties(raw_filtered, picks=[pick])\n",
    "        print(f\"ICA{pick:03d}, Predict: {cls_components['labels'][pick]} ({cls_components['y_pred_proba'][pick]*100:.2f}%)\")"
   ]
  },
  {
   "cell_type": "markdown",
   "id": "6d70b633-b674-4f9b-b656-63cbf4593de5",
   "metadata": {},
   "source": [
    "##### Line Noise"
   ]
  },
  {
   "cell_type": "code",
   "execution_count": null,
   "id": "22af7457-1e90-4f9a-975c-7fcd7f66ce3f",
   "metadata": {},
   "outputs": [],
   "source": [
    "for idx in ica.labels_['line_noise']:\n",
    "    if REMOVE_NOISE and cls_components['y_pred_proba'][idx] > ICA_THRESHOLD:\n",
    "        ica.exclude.append(idx)"
   ]
  },
  {
   "cell_type": "code",
   "execution_count": null,
   "id": "a1fbc451-a00f-4cb9-845b-e5946921c726",
   "metadata": {},
   "outputs": [],
   "source": [
    "%matplotlib inline\n",
    "for pick in ica.labels_['line_noise']:\n",
    "    if pick in ica.exclude:\n",
    "        _ = ica.plot_properties(raw_filtered, picks=[pick])\n",
    "        print(f\"ICA{pick:03d}, Predict: {cls_components['labels'][pick]} ({cls_components['y_pred_proba'][pick]*100:.2f}%)\")"
   ]
  },
  {
   "cell_type": "markdown",
   "id": "87217cff-90d9-45a3-aab5-2c37559a2636",
   "metadata": {},
   "source": [
    "##### Channel Noise"
   ]
  },
  {
   "cell_type": "code",
   "execution_count": null,
   "id": "4a5b4194-c62f-4af2-9472-8d2464cac0f4",
   "metadata": {},
   "outputs": [],
   "source": [
    "for idx in ica.labels_['ch_noise']:\n",
    "    if REMOVE_NOISE and cls_components['y_pred_proba'][idx] > ICA_THRESHOLD:\n",
    "        ica.exclude.append(idx)"
   ]
  },
  {
   "cell_type": "code",
   "execution_count": null,
   "id": "00c853e0-8676-4a8e-9dd3-f771eb3640b3",
   "metadata": {},
   "outputs": [],
   "source": [
    "%matplotlib inline\n",
    "for pick in ica.labels_['ch_noise']:\n",
    "    if pick in ica.exclude:\n",
    "        _ = ica.plot_properties(raw_filtered, picks=[pick])\n",
    "        print(f\"ICA{pick:03d}, Predict: {cls_components['labels'][pick]} ({cls_components['y_pred_proba'][pick]*100:.2f}%)\")"
   ]
  },
  {
   "cell_type": "markdown",
   "id": "f2767324-01b1-4011-bce8-ae16e3805d97",
   "metadata": {},
   "source": [
    "##### Other"
   ]
  },
  {
   "cell_type": "code",
   "execution_count": null,
   "id": "71bed0c2-c233-46f2-a767-38194a64e979",
   "metadata": {},
   "outputs": [],
   "source": [
    "for idx in ica.labels_['other']:\n",
    "    if REMOVE_OTHER and cls_components['y_pred_proba'][idx] > ICA_THRESHOLD:\n",
    "        ica.exclude.append(idx)"
   ]
  },
  {
   "cell_type": "code",
   "execution_count": null,
   "id": "44c085a9-94d4-44c5-9b2b-aa56996a6988",
   "metadata": {
    "tags": []
   },
   "outputs": [],
   "source": [
    "%matplotlib inline\n",
    "for pick in ica.labels_['other']:\n",
    "    if pick in ica.exclude:\n",
    "        _ = ica.plot_properties(raw_filtered, picks=[pick])\n",
    "        print(f\"ICA{pick:03d}, Predict: {cls_components['labels'][pick]} ({cls_components['y_pred_proba'][pick]*100:.2f}%)\")"
   ]
  },
  {
   "cell_type": "markdown",
   "id": "4ea8d18e-cfe6-4498-beb4-ad996a0d2a09",
   "metadata": {
    "tags": []
   },
   "source": [
    "#### Remove Noise Channels"
   ]
  },
  {
   "cell_type": "code",
   "execution_count": null,
   "id": "5f9aa6a5-3676-444e-9abf-ff9873a3c35e",
   "metadata": {
    "tags": []
   },
   "outputs": [],
   "source": [
    "reconst_raw = raw_filtered.copy()\n",
    "ica.apply(reconst_raw)\n",
    "reconst_raw.filter(l_freq=0.5, h_freq=45)"
   ]
  },
  {
   "cell_type": "code",
   "execution_count": null,
   "id": "f548eec0-47a2-44a2-aeb3-c56537e49b58",
   "metadata": {
    "tags": []
   },
   "outputs": [],
   "source": [
    "%matplotlib inline\n",
    "_ = raw_filtered.plot(title='original', scalings='1e-3', duration=600)\n",
    "_ = reconst_raw.plot(title='ICA', scalings='1e-3', duration=600)"
   ]
  },
  {
   "cell_type": "markdown",
   "id": "30488fa5-abbe-4d90-866d-6d297ac21e09",
   "metadata": {
    "jp-MarkdownHeadingCollapsed": true,
    "tags": []
   },
   "source": [
    "### By EOG/ECG Channels [🔗](https://mne.tools/stable/auto_tutorials/preprocessing/40_artifact_correction_ica.html#using-an-eog-channel-to-select-ica-components) (Not working, No EOG, Bad ECG)"
   ]
  },
  {
   "cell_type": "markdown",
   "id": "4bc4ae59-e54d-4e0d-aec4-a04a9341f3a3",
   "metadata": {
    "jp-MarkdownHeadingCollapsed": true,
    "tags": []
   },
   "source": [
    "##### EOG  \n",
    "Since no EOG channel in the dataset, we skip this parts."
   ]
  },
  {
   "cell_type": "code",
   "execution_count": null,
   "id": "fc1a0f7b-091b-4076-96c6-2563bb1af9aa",
   "metadata": {
    "tags": []
   },
   "outputs": [],
   "source": [
    "# eog_indices, eog_scores = ica.find_bads_eog(raw)\n",
    "# ica.exclude += eog_indices\n",
    "\n",
    "# # barplot of ICA component \"EOG match\" scores\n",
    "# ica.plot_scores(eog_scores)\n",
    "\n",
    "# # plot diagnostics\n",
    "# ica.plot_properties(raw, picks=eog_indices)\n",
    "\n",
    "# # plot ICs applied to raw data, with EOG matches highlighted\n",
    "# ica.plot_sources(raw, show_scrollbars=False)\n",
    "\n",
    "# # plot ICs applied to the averaged EOG epochs, with EOG matches highlighted\n",
    "# ica.plot_sources(eog_evoked)"
   ]
  },
  {
   "cell_type": "markdown",
   "id": "94a735bb-5fa9-4edb-a41c-f8d96ee2ea36",
   "metadata": {
    "tags": []
   },
   "source": [
    "##### ECG 🚩"
   ]
  },
  {
   "cell_type": "code",
   "execution_count": null,
   "id": "1fff4d15-b441-4b66-9cf1-911f7389afef",
   "metadata": {
    "tags": []
   },
   "outputs": [],
   "source": [
    "# %matplotlib inline\n",
    "# _ = raw_filtered.copy().pick('ecg').plot(n_channels=1, duration=60, start=120, scalings='5e-3')"
   ]
  },
  {
   "cell_type": "markdown",
   "id": "3683f816-3d03-43c3-840f-552e073ce2e9",
   "metadata": {},
   "source": [
    "Creating ECG epochs [🔗](https://mne.tools/stable/auto_tutorials/preprocessing/40_artifact_correction_ica.html#visualizing-the-artifacts)"
   ]
  },
  {
   "cell_type": "code",
   "execution_count": null,
   "id": "0fc075c7-2cc5-4216-9b27-45c14a5f9b55",
   "metadata": {
    "tags": []
   },
   "outputs": [],
   "source": [
    "# %matplotlib inline\n",
    "# ecg_epochs = mne.preprocessing.create_ecg_epochs(raw_filtered)\n",
    "# ecg_epochs.plot_image(combine=\"mean\")"
   ]
  },
  {
   "cell_type": "code",
   "execution_count": null,
   "id": "59bb2c1a-9995-49cb-b0ee-4b3a6855d405",
   "metadata": {
    "tags": []
   },
   "outputs": [],
   "source": [
    "# avg_ecg_epochs = ecg_epochs.copy().average().apply_baseline((None, 0))"
   ]
  },
  {
   "cell_type": "code",
   "execution_count": null,
   "id": "26a30fde-4908-4045-b44c-61c0655ce44d",
   "metadata": {
    "tags": []
   },
   "outputs": [],
   "source": [
    "# %matplotlib inline\n",
    "# avg_ecg_epochs.plot_topomap(times=np.linspace(-0.05, 0.05, 11))"
   ]
  },
  {
   "cell_type": "code",
   "execution_count": null,
   "id": "ef95ff9f-8362-40fa-a993-8a38c28de22a",
   "metadata": {
    "tags": []
   },
   "outputs": [],
   "source": [
    "# ecg_evoked = mne.preprocessing.create_ecg_epochs(raw_filtered).average()\n",
    "# ecg_evoked.apply_baseline(baseline=(None, -0.2))\n",
    "# ecg_evoked.plot_joint()"
   ]
  },
  {
   "cell_type": "code",
   "execution_count": null,
   "id": "67464bb4-267b-4381-bea3-0ade22310b1c",
   "metadata": {
    "tags": []
   },
   "outputs": [],
   "source": [
    "# # 'correlation' method uses ECG channel as reference.\n",
    "# ecg_indices, ecg_scores = ica.find_bads_ecg(raw_filtered, method=\"correlation\", threshold=\"auto\")"
   ]
  },
  {
   "cell_type": "code",
   "execution_count": null,
   "id": "5121c4c3-0ba2-42a4-80b1-a850a68ac48a",
   "metadata": {
    "tags": []
   },
   "outputs": [],
   "source": [
    "# ica.exclude += ecg_indices\n",
    "\n",
    "# # barplot of ICA component \"ECG match\" scores\n",
    "# ica.plot_scores(ecg_scores)\n",
    "\n",
    "# # plot diagnostics\n",
    "# if len(ecg_indices) > 0:\n",
    "#     ica.plot_properties(raw, picks=ecg_indices)\n",
    "# else:\n",
    "#     print('Not matching with ECG.')\n",
    "\n",
    "# # plot ICs applied to raw data, with ECG matches highlighted\n",
    "# ica.plot_sources(raw, show_scrollbars=False)\n",
    "\n",
    "# # plot ICs applied to the averaged ECG epochs, with ECG matches highlighted\n",
    "# ica.plot_sources(ecg_evoked)"
   ]
  },
  {
   "cell_type": "markdown",
   "id": "c2efe4cf-f0da-41b4-9914-7fd1fa1fa7df",
   "metadata": {
    "tags": []
   },
   "source": [
    "# Save Result"
   ]
  },
  {
   "cell_type": "code",
   "execution_count": null,
   "id": "9b3e67a4-b966-45dd-b8e8-72664e3acdc7",
   "metadata": {
    "tags": []
   },
   "outputs": [],
   "source": [
    "reconst_raw.save(os.path.join(SAVE_PATH, f'ica_sub-{SUB_ID}_task-genMusic{GEN_ID}_eeg.fif'), overwrite=True)\n",
    "reconst_raw"
   ]
  },
  {
   "cell_type": "code",
   "execution_count": null,
   "id": "f57798fe-c37d-4c30-a544-f2ffe81cb077",
   "metadata": {},
   "outputs": [],
   "source": []
  }
 ],
 "metadata": {
  "kernelspec": {
   "display_name": "Python 3 (ipykernel)",
   "language": "python",
   "name": "python3"
  },
  "language_info": {
   "codemirror_mode": {
    "name": "ipython",
    "version": 3
   },
   "file_extension": ".py",
   "mimetype": "text/x-python",
   "name": "python",
   "nbconvert_exporter": "python",
   "pygments_lexer": "ipython3",
   "version": "3.11.5"
  }
 },
 "nbformat": 4,
 "nbformat_minor": 5
}
