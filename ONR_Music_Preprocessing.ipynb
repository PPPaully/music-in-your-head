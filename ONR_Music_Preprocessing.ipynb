{
 "cells": [
  {
   "cell_type": "code",
   "execution_count": 1,
   "id": "924d27fd-0c66-47db-8dbb-3ad1ac682f2b",
   "metadata": {},
   "outputs": [
    {
     "name": "stderr",
     "output_type": "stream",
     "text": [
      "D:\\Anaconda3\\Lib\\site-packages\\paramiko\\transport.py:219: CryptographyDeprecationWarning: Blowfish has been deprecated\n",
      "  \"class\": algorithms.Blowfish,\n"
     ]
    }
   ],
   "source": [
    "import os\n",
    "import mne\n",
    "\n",
    "import scipy as sc\n",
    "import numpy as np\n",
    "import librosa\n",
    "import librosa.display\n",
    "import scipy.fft as sf\n",
    "from scipy.io.wavfile import read as read_wav\n",
    "import matplotlib.pyplot as plt\n",
    "from ipywidgets import IntProgress\n",
    "from IPython.display import Audio, display\n",
    "\n",
    "np.float = np.float64  # Fixing compatible"
   ]
  },
  {
   "cell_type": "code",
   "execution_count": 2,
   "id": "6a42c704-b8c0-45bc-b5d8-64a2e92a3d65",
   "metadata": {},
   "outputs": [],
   "source": [
    "GEN_ID = '01'\n",
    "ROOT_PATH = 'preprocessing/data'"
   ]
  },
  {
   "cell_type": "markdown",
   "id": "ebbc5b66-ec2f-49cd-ad9c-4390d77d259c",
   "metadata": {},
   "source": [
    "# Load Music Data"
   ]
  },
  {
   "cell_type": "code",
   "execution_count": 3,
   "id": "547776aa-7bbc-414e-ac97-03307e435af5",
   "metadata": {
    "scrolled": true,
    "tags": []
   },
   "outputs": [
    {
     "name": "stdout",
     "output_type": "stream",
     "text": [
      "Opening raw data file preprocessing/data\\ica_sub-01_task-genMusic01_eeg.fif...\n",
      "    Range : 0 ... 379903 =      0.000 ...   741.998 secs\n",
      "Ready.\n",
      "Opening raw data file preprocessing/data\\ica_sub-02_task-genMusic01_eeg.fif...\n",
      "    Range : 0 ... 307199 =      0.000 ...   599.998 secs\n",
      "Ready.\n",
      "Opening raw data file preprocessing/data\\ica_sub-03_task-genMusic01_eeg.fif...\n",
      "    Range : 0 ... 456703 =      0.000 ...   891.998 secs\n",
      "Ready.\n",
      "Opening raw data file preprocessing/data\\ica_sub-04_task-genMusic01_eeg.fif...\n",
      "    Range : 0 ... 307199 =      0.000 ...   599.998 secs\n",
      "Ready.\n",
      "Opening raw data file preprocessing/data\\ica_sub-05_task-genMusic01_eeg.fif...\n",
      "    Range : 0 ... 322047 =      0.000 ...   628.998 secs\n",
      "Ready.\n",
      "Opening raw data file preprocessing/data\\ica_sub-06_task-genMusic01_eeg.fif...\n",
      "    Range : 0 ... 312831 =      0.000 ...   610.998 secs\n",
      "Ready.\n",
      "Opening raw data file preprocessing/data\\ica_sub-07_task-genMusic01_eeg.fif...\n",
      "    Range : 0 ... 337407 =      0.000 ...   658.998 secs\n",
      "Ready.\n",
      "Opening raw data file preprocessing/data\\ica_sub-08_task-genMusic01_eeg.fif...\n",
      "    Range : 0 ... 305151 =      0.000 ...   595.998 secs\n",
      "Ready.\n",
      "Opening raw data file preprocessing/data\\ica_sub-09_task-genMusic01_eeg.fif...\n",
      "    Range : 0 ... 309759 =      0.000 ...   604.998 secs\n",
      "Ready.\n",
      "Opening raw data file preprocessing/data\\ica_sub-10_task-genMusic01_eeg.fif...\n",
      "    Range : 0 ... 325631 =      0.000 ...   635.998 secs\n",
      "Ready.\n",
      "Opening raw data file preprocessing/data\\ica_sub-11_task-genMusic01_eeg.fif...\n",
      "    Range : 0 ... 310783 =      0.000 ...   606.998 secs\n",
      "Ready.\n",
      "Opening raw data file preprocessing/data\\ica_sub-12_task-genMusic01_eeg.fif...\n",
      "    Range : 0 ... 314879 =      0.000 ...   614.998 secs\n",
      "Ready.\n",
      "Opening raw data file preprocessing/data\\ica_sub-13_task-genMusic01_eeg.fif...\n",
      "    Range : 0 ... 304127 =      0.000 ...   593.998 secs\n",
      "Ready.\n",
      "Opening raw data file preprocessing/data\\ica_sub-14_task-genMusic01_eeg.fif...\n",
      "    Range : 0 ... 310271 =      0.000 ...   605.998 secs\n",
      "Ready.\n",
      "Opening raw data file preprocessing/data\\ica_sub-15_task-genMusic01_eeg.fif...\n",
      "    Range : 0 ... 313855 =      0.000 ...   612.998 secs\n",
      "Ready.\n",
      "Opening raw data file preprocessing/data\\ica_sub-16_task-genMusic01_eeg.fif...\n",
      "    Range : 0 ... 313855 =      0.000 ...   612.998 secs\n",
      "Ready.\n",
      "Opening raw data file preprocessing/data\\ica_sub-18_task-genMusic01_eeg.fif...\n",
      "    Range : 0 ... 307199 =      0.000 ...   599.998 secs\n",
      "Ready.\n",
      "Opening raw data file preprocessing/data\\ica_sub-19_task-genMusic01_eeg.fif...\n",
      "    Range : 0 ... 308735 =      0.000 ...   602.998 secs\n",
      "Ready.\n",
      "Opening raw data file preprocessing/data\\ica_sub-20_task-genMusic01_eeg.fif...\n",
      "    Range : 0 ... 322559 =      0.000 ...   629.998 secs\n",
      "Ready.\n",
      "Opening raw data file preprocessing/data\\ica_sub-21_task-genMusic01_eeg.fif...\n",
      "    Range : 0 ... 305663 =      0.000 ...   596.998 secs\n",
      "Ready.\n"
     ]
    }
   ],
   "source": [
    "sub_x_music = dict()\n",
    "music_list = set()\n",
    "for SUB_ID in range(1, 22):\n",
    "    if SUB_ID == 17:\n",
    "        continue\n",
    "    data = mne.io.read_raw_fif(os.path.join(ROOT_PATH, f'ica_sub-{SUB_ID:02d}_task-genMusic{GEN_ID}_eeg.fif'))\n",
    "    sub_x_music[SUB_ID] = set(data.annotations.description.copy())\n",
    "    music_list = music_list.union(sub_x_music[SUB_ID])"
   ]
  },
  {
   "cell_type": "code",
   "execution_count": 4,
   "id": "00f9c590-c4ca-4265-8072-f8b6c77fea4b",
   "metadata": {},
   "outputs": [],
   "source": [
    "MUSIC_ROOT_PATH = 'data/openneuro/stimuli/generated'"
   ]
  },
  {
   "cell_type": "code",
   "execution_count": 5,
   "id": "e3974ece-a810-4f85-8758-09939659c0f1",
   "metadata": {
    "scrolled": true,
    "tags": []
   },
   "outputs": [
    {
     "name": "stdout",
     "output_type": "stream",
     "text": [
      "9-7_1.wav 44100 (1764000,)\n",
      "No wav 1-1_3.wav\n",
      "7-5_1.wav 44100 (1764000,)\n",
      "No wav 1-3_6.wav\n",
      "No wav 3-8_9.wav\n",
      "No wav 3-3_1.wav\n",
      "No wav 1-9_7.wav\n",
      "7-5_3.wav 44100 (1764000,)\n",
      "8-2_3.wav 44100 (1764000,)\n",
      "8-7_2.wav 44100 (1764000,)\n",
      "No wav 2-0_2.wav\n",
      "No wav 1-5_0.wav\n",
      "No wav 6-1_7.wav\n",
      "2-8_1.wav 44100 (1777660,)\n",
      "8-2_2.wav 44100 (1764000,)\n",
      "4-5_3.wav 44100 (1764000,)\n",
      "4-8_2.wav 44100 (1764000,)\n",
      "4-5_1.wav 44100 (1764000,)\n",
      "5-4_3.wav 44100 (1764000,)\n",
      "No wav 6-0_1.wav\n",
      "No wav 10-8_6.wav\n",
      "No wav 9-0_4.wav\n",
      "No wav 2-3_0.wav\n",
      "4-5_2.wav 44100 (1764000,)\n",
      "2-8_3.wav 44100 (1764000,)\n",
      "5-9_1.wav 44100 (1764000,)\n",
      "No wav 0-6_3.wav\n",
      "2-8_2.wav 44100 (1764000,)\n",
      "No wav 0-7_9.wav\n",
      "No wav 10-5_2.wav\n",
      "No wav 13-9_6.wav\n",
      "7-5_2.wav 44100 (1808100,)\n",
      "No wav 6-7_8.wav\n",
      "No wav 12-6_6.wav\n",
      "No wav 6-2_5.wav\n",
      "No wav 1-7_0.wav\n",
      "No wav 11-9_0.wav\n",
      "8-2_1.wav 44100 (1764000,)\n"
     ]
    },
    {
     "name": "stderr",
     "output_type": "stream",
     "text": [
      "C:\\Users\\Paul\\AppData\\Local\\Temp\\ipykernel_58188\\2205492335.py:5: WavFileWarning: Chunk (non-data) not understood, skipping it.\n",
      "  musics[fid] = dict(zip(['rate', 'data'], read_wav(os.path.join(MUSIC_ROOT_PATH, fid))))\n"
     ]
    }
   ],
   "source": [
    "musics = dict()\n",
    "\n",
    "for fid in music_list:\n",
    "    try:\n",
    "        musics[fid] = dict(zip(['rate', 'data'], read_wav(os.path.join(MUSIC_ROOT_PATH, fid))))\n",
    "        if len(musics[fid]['data'].shape) == 2:\n",
    "            musics[fid]['data'] = musics[fid]['data'][:, 0]\n",
    "        musics[fid]['cue_samples'] = 0\n",
    "        musics[fid]['data'] = musics[fid]['data'].astype(float)\n",
    "        print(fid, musics[fid]['rate'], musics[fid]['data'].shape)\n",
    "    except Exception:\n",
    "        print(f'No wav {fid}')"
   ]
  },
  {
   "cell_type": "code",
   "execution_count": 6,
   "id": "8fcf31ff-a0ee-4173-888c-8411d5eff8ba",
   "metadata": {
    "scrolled": true,
    "tags": []
   },
   "outputs": [
    {
     "data": {
      "text/plain": [
       "{1: {'2-8_1.wav',\n",
       "  '2-8_2.wav',\n",
       "  '2-8_3.wav',\n",
       "  '4-5_2.wav',\n",
       "  '8-2_1.wav',\n",
       "  '8-2_2.wav',\n",
       "  '8-2_3.wav'},\n",
       " 2: {'2-8_1.wav',\n",
       "  '2-8_3.wav',\n",
       "  '4-5_2.wav',\n",
       "  '5-4_3.wav',\n",
       "  '7-5_1.wav',\n",
       "  '7-5_2.wav',\n",
       "  '7-5_3.wav',\n",
       "  '8-2_2.wav'},\n",
       " 3: {'0-6_3.wav',\n",
       "  '2-8_3.wav',\n",
       "  '3-8_9.wav',\n",
       "  '7-5_1.wav',\n",
       "  '7-5_2.wav',\n",
       "  '7-5_3.wav',\n",
       "  '8-2_1.wav',\n",
       "  '8-2_2.wav',\n",
       "  '8-2_3.wav'},\n",
       " 4: {'2-8_1.wav',\n",
       "  '2-8_2.wav',\n",
       "  '7-5_1.wav',\n",
       "  '7-5_3.wav',\n",
       "  '8-2_2.wav',\n",
       "  '8-2_3.wav'},\n",
       " 5: {'1-1_3.wav',\n",
       "  '1-7_0.wav',\n",
       "  '2-8_2.wav',\n",
       "  '4-5_1.wav',\n",
       "  '4-5_2.wav',\n",
       "  '4-5_3.wav',\n",
       "  '7-5_1.wav',\n",
       "  '7-5_3.wav',\n",
       "  '8-2_1.wav',\n",
       "  '8-2_2.wav',\n",
       "  '8-2_3.wav'},\n",
       " 6: {'2-8_2.wav',\n",
       "  '2-8_3.wav',\n",
       "  '4-5_2.wav',\n",
       "  '4-5_3.wav',\n",
       "  '7-5_2.wav',\n",
       "  '8-2_1.wav',\n",
       "  '8-2_2.wav',\n",
       "  '8-2_3.wav'},\n",
       " 7: {'2-8_2.wav',\n",
       "  '7-5_1.wav',\n",
       "  '7-5_2.wav',\n",
       "  '8-2_2.wav',\n",
       "  '8-2_3.wav',\n",
       "  '9-0_4.wav'},\n",
       " 8: {'2-8_1.wav',\n",
       "  '4-5_2.wav',\n",
       "  '4-5_3.wav',\n",
       "  '7-5_2.wav',\n",
       "  '7-5_3.wav',\n",
       "  '8-2_1.wav',\n",
       "  '8-2_2.wav',\n",
       "  '8-2_3.wav'},\n",
       " 9: {'0-7_9.wav',\n",
       "  '1-3_6.wav',\n",
       "  '2-0_2.wav',\n",
       "  '2-8_3.wav',\n",
       "  '4-5_2.wav',\n",
       "  '4-8_2.wav',\n",
       "  '6-1_7.wav',\n",
       "  '7-5_1.wav',\n",
       "  '7-5_2.wav',\n",
       "  '7-5_3.wav',\n",
       "  '8-2_2.wav'},\n",
       " 10: {'1-5_0.wav',\n",
       "  '1-9_7.wav',\n",
       "  '2-8_1.wav',\n",
       "  '2-8_3.wav',\n",
       "  '3-3_1.wav',\n",
       "  '4-5_3.wav',\n",
       "  '6-0_1.wav',\n",
       "  '6-2_5.wav',\n",
       "  '6-7_8.wav',\n",
       "  '7-5_2.wav',\n",
       "  '8-2_1.wav',\n",
       "  '8-2_3.wav'},\n",
       " 11: {'12-6_6.wav',\n",
       "  '2-8_1.wav',\n",
       "  '2-8_2.wav',\n",
       "  '4-5_1.wav',\n",
       "  '7-5_1.wav',\n",
       "  '7-5_2.wav',\n",
       "  '8-2_1.wav',\n",
       "  '8-2_2.wav'},\n",
       " 12: {'2-8_1.wav',\n",
       "  '2-8_2.wav',\n",
       "  '2-8_3.wav',\n",
       "  '4-5_1.wav',\n",
       "  '4-5_3.wav',\n",
       "  '7-5_2.wav',\n",
       "  '7-5_3.wav',\n",
       "  '8-2_1.wav'},\n",
       " 13: {'11-9_0.wav',\n",
       "  '2-8_2.wav',\n",
       "  '2-8_3.wav',\n",
       "  '4-5_2.wav',\n",
       "  '7-5_2.wav',\n",
       "  '7-5_3.wav',\n",
       "  '8-2_1.wav',\n",
       "  '8-2_3.wav',\n",
       "  '9-7_1.wav'},\n",
       " 14: {'10-8_6.wav',\n",
       "  '2-8_1.wav',\n",
       "  '2-8_2.wav',\n",
       "  '2-8_3.wav',\n",
       "  '4-5_2.wav',\n",
       "  '7-5_1.wav',\n",
       "  '7-5_2.wav',\n",
       "  '8-2_1.wav',\n",
       "  '8-2_2.wav'},\n",
       " 15: {'13-9_6.wav',\n",
       "  '2-3_0.wav',\n",
       "  '2-8_1.wav',\n",
       "  '2-8_2.wav',\n",
       "  '5-9_1.wav',\n",
       "  '7-5_1.wav',\n",
       "  '7-5_2.wav',\n",
       "  '7-5_3.wav',\n",
       "  '8-2_2.wav',\n",
       "  '8-2_3.wav'},\n",
       " 16: {'2-8_1.wav',\n",
       "  '2-8_3.wav',\n",
       "  '7-5_1.wav',\n",
       "  '7-5_2.wav',\n",
       "  '7-5_3.wav',\n",
       "  '8-2_1.wav',\n",
       "  '8-2_2.wav',\n",
       "  '8-2_3.wav',\n",
       "  '8-7_2.wav'},\n",
       " 18: {'10-5_2.wav',\n",
       "  '2-8_1.wav',\n",
       "  '2-8_2.wav',\n",
       "  '4-5_1.wav',\n",
       "  '7-5_1.wav',\n",
       "  '7-5_2.wav',\n",
       "  '8-2_1.wav',\n",
       "  '8-2_2.wav'},\n",
       " 19: {'2-8_1.wav',\n",
       "  '2-8_2.wav',\n",
       "  '4-5_1.wav',\n",
       "  '4-5_2.wav',\n",
       "  '4-5_3.wav',\n",
       "  '7-5_1.wav',\n",
       "  '7-5_2.wav',\n",
       "  '8-2_1.wav',\n",
       "  '8-2_2.wav'},\n",
       " 20: {'2-8_2.wav',\n",
       "  '2-8_3.wav',\n",
       "  '4-5_2.wav',\n",
       "  '4-5_3.wav',\n",
       "  '7-5_1.wav',\n",
       "  '7-5_2.wav',\n",
       "  '7-5_3.wav',\n",
       "  '8-2_1.wav',\n",
       "  '8-2_2.wav',\n",
       "  '8-2_3.wav'},\n",
       " 21: {'2-8_1.wav',\n",
       "  '2-8_2.wav',\n",
       "  '4-5_1.wav',\n",
       "  '4-5_2.wav',\n",
       "  '4-5_3.wav',\n",
       "  '7-5_1.wav',\n",
       "  '7-5_2.wav',\n",
       "  '8-2_1.wav',\n",
       "  '8-2_2.wav'}}"
      ]
     },
     "execution_count": 6,
     "metadata": {},
     "output_type": "execute_result"
    }
   ],
   "source": [
    "sub_x_music"
   ]
  },
  {
   "cell_type": "markdown",
   "id": "c9dcc927-7684-4b6f-a849-82db20ac005c",
   "metadata": {},
   "source": [
    "# Compute Frequency"
   ]
  },
  {
   "cell_type": "code",
   "execution_count": 7,
   "id": "cc5ed580-2839-4f53-8106-ff1b3f633588",
   "metadata": {
    "tags": []
   },
   "outputs": [],
   "source": [
    "def padding_zeros(data, size):\n",
    "    if len(data) % size == 0:\n",
    "        return data\n",
    "    \n",
    "    return np.concatenate([data, np.zeros(size - len(data) % size)])"
   ]
  },
  {
   "cell_type": "markdown",
   "id": "63c45030-ceb8-40cc-9380-27879a875128",
   "metadata": {
    "tags": []
   },
   "source": [
    "## Setup"
   ]
  },
  {
   "cell_type": "code",
   "execution_count": 8,
   "id": "fa4ec56d-c01b-4b5b-ad1f-06866a80f632",
   "metadata": {
    "tags": []
   },
   "outputs": [],
   "source": [
    "# Output Targets\n",
    "min_note, max_note = librosa.note_to_midi('A0'), librosa.note_to_midi('C8')\n",
    "target_freq = librosa.midi_to_hz(range(min_note, max_note + 1))"
   ]
  },
  {
   "cell_type": "code",
   "execution_count": 9,
   "id": "1164c021-5b28-44af-8d41-228c4d7d42e6",
   "metadata": {
    "tags": []
   },
   "outputs": [
    {
     "data": {
      "text/plain": [
       "(64, 64)"
      ]
     },
     "execution_count": 9,
     "metadata": {},
     "output_type": "execute_result"
    }
   ],
   "source": [
    "# Wav\n",
    "eeg_hz = 512\n",
    "sample_size = 32\n",
    "resampling_hz = sr_2 = 2**10\n",
    "\n",
    "# STFT\n",
    "n_fft = int(resampling_hz / (eeg_hz/sample_size))  # Default 2**11\n",
    "win_length = hop_length = n_fft\n",
    "n_fft, win_length"
   ]
  },
  {
   "cell_type": "markdown",
   "id": "58d58550-3712-4054-802f-86755530d1f0",
   "metadata": {
    "tags": []
   },
   "source": [
    "### Debug"
   ]
  },
  {
   "cell_type": "code",
   "execution_count": 10,
   "id": "b7624592-f93b-4248-8870-a5a992cc16d7",
   "metadata": {},
   "outputs": [
    {
     "name": "stdout",
     "output_type": "stream",
     "text": [
      "\n",
      "[Data]\n",
      "EEG 512 hz x 20480.0 samples\n",
      "WAV 1024 hz x 40960.0 samples\n",
      "==============================================\n",
      "[Model]\n",
      "Input: EEG 32.0 samples per target \n",
      "Output: STFT 33 hz x 640.0 samples\n",
      "\n"
     ]
    }
   ],
   "source": [
    "mid = list(musics.keys())[0]\n",
    "y, sr = musics[mid]['data'], musics[mid]['rate']\n",
    "\n",
    "eeg_length = len(y)/sr*eeg_hz\n",
    "wav_length = len(y)/sr*resampling_hz\n",
    "print(f'''\n",
    "[Data]\n",
    "EEG {eeg_hz} hz x {eeg_length} samples\n",
    "WAV {resampling_hz} hz x {wav_length} samples\n",
    "==============================================\n",
    "[Model]\n",
    "Input: EEG {np.round(eeg_length/np.round(wav_length/hop_length), decimals=2)} samples per target \n",
    "Output: STFT {1 + n_fft//2} hz x {np.round(wav_length/hop_length)} samples\n",
    "''')"
   ]
  },
  {
   "cell_type": "code",
   "execution_count": null,
   "id": "771ef0a1-f379-4fb5-b6a1-f3f6712374f7",
   "metadata": {
    "tags": []
   },
   "outputs": [],
   "source": [
    "y_2 = librosa.resample(y, orig_sr=sr, target_sr=sr_2)\n",
    "\n",
    "plt.plot(y)\n",
    "plt.plot(np.linspace(0, len(y), num=len(y_2)), y_2, alpha=0.3)\n",
    "\n",
    "print('Original:')\n",
    "display(Audio(data=y, rate=sr))\n",
    "print(f'Resample: {sr_2}')\n",
    "display(Audio(data=librosa.resample(y_2, orig_sr=sr_2, target_sr=sr), rate=sr))\n",
    "\n",
    "stft = librosa.stft(\n",
    "    y_2,\n",
    "    n_fft=n_fft,\n",
    "    hop_length=win_length,\n",
    "    win_length=win_length,\n",
    "    center=False\n",
    ")\n",
    "print('STFT:', stft.shape)\n",
    "\n",
    "# Plot\n",
    "fig = plt.figure(figsize=(16, 6))\n",
    "librosa.display.specshow(\n",
    "    librosa.amplitude_to_db(np.abs(stft), ref=np.max),\n",
    "    y_axis='log', x_axis='time'\n",
    ")"
   ]
  },
  {
   "cell_type": "markdown",
   "id": "2683626b-5e7e-49db-a5b1-78c602c1fce2",
   "metadata": {},
   "source": [
    "## Compute"
   ]
  },
  {
   "cell_type": "code",
   "execution_count": 12,
   "id": "d2682ca4-19ab-4454-89a7-e06c268f79b0",
   "metadata": {
    "tags": []
   },
   "outputs": [
    {
     "name": "stdout",
     "output_type": "stream",
     "text": [
      "Preprocessing: 9-7_1.wav\n"
     ]
    },
    {
     "data": {
      "application/vnd.jupyter.widget-view+json": {
       "model_id": "fa808e60d28c498083f330d155ffd4ce",
       "version_major": 2,
       "version_minor": 0
      },
      "text/plain": [
       "IntProgress(value=0, description='Proprocessing', max=6, tooltip='Preprocessing: 9-7_1.wav')"
      ]
     },
     "metadata": {},
     "output_type": "display_data"
    },
    {
     "name": "stdout",
     "output_type": "stream",
     "text": [
      "Y: (1764000,)\n",
      "STFT: (3, 33, 640)\n",
      "Preprocessing: 7-5_1.wav\n"
     ]
    },
    {
     "data": {
      "application/vnd.jupyter.widget-view+json": {
       "model_id": "9489c4d834f8433ea4e740ce9ea9fd21",
       "version_major": 2,
       "version_minor": 0
      },
      "text/plain": [
       "IntProgress(value=0, description='Proprocessing', max=6, tooltip='Preprocessing: 7-5_1.wav')"
      ]
     },
     "metadata": {},
     "output_type": "display_data"
    },
    {
     "name": "stdout",
     "output_type": "stream",
     "text": [
      "Y: (1764000,)\n",
      "STFT: (3, 33, 640)\n",
      "Preprocessing: 7-5_3.wav\n"
     ]
    },
    {
     "data": {
      "application/vnd.jupyter.widget-view+json": {
       "model_id": "3a0d5e65f884441f8294220e0bf48f25",
       "version_major": 2,
       "version_minor": 0
      },
      "text/plain": [
       "IntProgress(value=0, description='Proprocessing', max=6, tooltip='Preprocessing: 7-5_3.wav')"
      ]
     },
     "metadata": {},
     "output_type": "display_data"
    },
    {
     "name": "stdout",
     "output_type": "stream",
     "text": [
      "Y: (1764000,)\n",
      "STFT: (3, 33, 640)\n",
      "Preprocessing: 8-2_3.wav\n"
     ]
    },
    {
     "data": {
      "application/vnd.jupyter.widget-view+json": {
       "model_id": "e2e083d5482f41229104ddd30efd7c24",
       "version_major": 2,
       "version_minor": 0
      },
      "text/plain": [
       "IntProgress(value=0, description='Proprocessing', max=6, tooltip='Preprocessing: 8-2_3.wav')"
      ]
     },
     "metadata": {},
     "output_type": "display_data"
    },
    {
     "name": "stdout",
     "output_type": "stream",
     "text": [
      "Y: (1764000,)\n",
      "STFT: (3, 33, 640)\n",
      "Preprocessing: 8-7_2.wav\n"
     ]
    },
    {
     "data": {
      "application/vnd.jupyter.widget-view+json": {
       "model_id": "cd5f11e3464042e2b7149cdc9b893f5b",
       "version_major": 2,
       "version_minor": 0
      },
      "text/plain": [
       "IntProgress(value=0, description='Proprocessing', max=6, tooltip='Preprocessing: 8-7_2.wav')"
      ]
     },
     "metadata": {},
     "output_type": "display_data"
    },
    {
     "name": "stdout",
     "output_type": "stream",
     "text": [
      "Y: (1764000,)\n",
      "STFT: (3, 33, 640)\n",
      "Preprocessing: 2-8_1.wav\n"
     ]
    },
    {
     "data": {
      "application/vnd.jupyter.widget-view+json": {
       "model_id": "6886c6b086d941028aed845c42358966",
       "version_major": 2,
       "version_minor": 0
      },
      "text/plain": [
       "IntProgress(value=0, description='Proprocessing', max=6, tooltip='Preprocessing: 2-8_1.wav')"
      ]
     },
     "metadata": {},
     "output_type": "display_data"
    },
    {
     "name": "stdout",
     "output_type": "stream",
     "text": [
      "Y: (1764000,)\n",
      "STFT: (3, 33, 640)\n",
      "Preprocessing: 8-2_2.wav\n"
     ]
    },
    {
     "data": {
      "application/vnd.jupyter.widget-view+json": {
       "model_id": "74a5b001fd0b42f580e48eb895a5cdff",
       "version_major": 2,
       "version_minor": 0
      },
      "text/plain": [
       "IntProgress(value=0, description='Proprocessing', max=6, tooltip='Preprocessing: 8-2_2.wav')"
      ]
     },
     "metadata": {},
     "output_type": "display_data"
    },
    {
     "name": "stdout",
     "output_type": "stream",
     "text": [
      "Y: (1764000,)\n",
      "STFT: (3, 33, 640)\n",
      "Preprocessing: 4-5_3.wav\n"
     ]
    },
    {
     "data": {
      "application/vnd.jupyter.widget-view+json": {
       "model_id": "a07635410e6745d2b4b178dddbf61af6",
       "version_major": 2,
       "version_minor": 0
      },
      "text/plain": [
       "IntProgress(value=0, description='Proprocessing', max=6, tooltip='Preprocessing: 4-5_3.wav')"
      ]
     },
     "metadata": {},
     "output_type": "display_data"
    },
    {
     "name": "stdout",
     "output_type": "stream",
     "text": [
      "Y: (1764000,)\n",
      "STFT: (3, 33, 640)\n",
      "Preprocessing: 4-8_2.wav\n"
     ]
    },
    {
     "data": {
      "application/vnd.jupyter.widget-view+json": {
       "model_id": "c4f40d9dd68649669894591932d486e9",
       "version_major": 2,
       "version_minor": 0
      },
      "text/plain": [
       "IntProgress(value=0, description='Proprocessing', max=6, tooltip='Preprocessing: 4-8_2.wav')"
      ]
     },
     "metadata": {},
     "output_type": "display_data"
    },
    {
     "name": "stdout",
     "output_type": "stream",
     "text": [
      "Y: (1764000,)\n",
      "STFT: (3, 33, 640)\n",
      "Preprocessing: 4-5_1.wav\n"
     ]
    },
    {
     "data": {
      "application/vnd.jupyter.widget-view+json": {
       "model_id": "cdfd0f4e7e3049ee91e2d204f7ac3541",
       "version_major": 2,
       "version_minor": 0
      },
      "text/plain": [
       "IntProgress(value=0, description='Proprocessing', max=6, tooltip='Preprocessing: 4-5_1.wav')"
      ]
     },
     "metadata": {},
     "output_type": "display_data"
    },
    {
     "name": "stdout",
     "output_type": "stream",
     "text": [
      "Y: (1764000,)\n",
      "STFT: (3, 33, 640)\n",
      "Preprocessing: 5-4_3.wav\n"
     ]
    },
    {
     "data": {
      "application/vnd.jupyter.widget-view+json": {
       "model_id": "5d59eb0b6398458281c44e960a525cbf",
       "version_major": 2,
       "version_minor": 0
      },
      "text/plain": [
       "IntProgress(value=0, description='Proprocessing', max=6, tooltip='Preprocessing: 5-4_3.wav')"
      ]
     },
     "metadata": {},
     "output_type": "display_data"
    },
    {
     "name": "stdout",
     "output_type": "stream",
     "text": [
      "Y: (1764000,)\n",
      "STFT: (3, 33, 640)\n",
      "Preprocessing: 4-5_2.wav\n"
     ]
    },
    {
     "data": {
      "application/vnd.jupyter.widget-view+json": {
       "model_id": "ff8298a056c240fa83f5e7325bdabf92",
       "version_major": 2,
       "version_minor": 0
      },
      "text/plain": [
       "IntProgress(value=0, description='Proprocessing', max=6, tooltip='Preprocessing: 4-5_2.wav')"
      ]
     },
     "metadata": {},
     "output_type": "display_data"
    },
    {
     "name": "stdout",
     "output_type": "stream",
     "text": [
      "Y: (1764000,)\n",
      "STFT: (3, 33, 640)\n",
      "Preprocessing: 2-8_3.wav\n"
     ]
    },
    {
     "data": {
      "application/vnd.jupyter.widget-view+json": {
       "model_id": "899dfe791a4b4db88211d3a974999555",
       "version_major": 2,
       "version_minor": 0
      },
      "text/plain": [
       "IntProgress(value=0, description='Proprocessing', max=6, tooltip='Preprocessing: 2-8_3.wav')"
      ]
     },
     "metadata": {},
     "output_type": "display_data"
    },
    {
     "name": "stdout",
     "output_type": "stream",
     "text": [
      "Y: (1764000,)\n",
      "STFT: (3, 33, 640)\n",
      "Preprocessing: 5-9_1.wav\n"
     ]
    },
    {
     "data": {
      "application/vnd.jupyter.widget-view+json": {
       "model_id": "5c07b8af50ac41de89c99335b10d9628",
       "version_major": 2,
       "version_minor": 0
      },
      "text/plain": [
       "IntProgress(value=0, description='Proprocessing', max=6, tooltip='Preprocessing: 5-9_1.wav')"
      ]
     },
     "metadata": {},
     "output_type": "display_data"
    },
    {
     "name": "stdout",
     "output_type": "stream",
     "text": [
      "Y: (1764000,)\n",
      "STFT: (3, 33, 640)\n",
      "Preprocessing: 2-8_2.wav\n"
     ]
    },
    {
     "data": {
      "application/vnd.jupyter.widget-view+json": {
       "model_id": "5ddfd8649821488590cd22113fba4c59",
       "version_major": 2,
       "version_minor": 0
      },
      "text/plain": [
       "IntProgress(value=0, description='Proprocessing', max=6, tooltip='Preprocessing: 2-8_2.wav')"
      ]
     },
     "metadata": {},
     "output_type": "display_data"
    },
    {
     "name": "stdout",
     "output_type": "stream",
     "text": [
      "Y: (1764000,)\n",
      "STFT: (3, 33, 640)\n",
      "Preprocessing: 7-5_2.wav\n"
     ]
    },
    {
     "data": {
      "application/vnd.jupyter.widget-view+json": {
       "model_id": "5a58af99441e4ba39875d4386d959869",
       "version_major": 2,
       "version_minor": 0
      },
      "text/plain": [
       "IntProgress(value=0, description='Proprocessing', max=6, tooltip='Preprocessing: 7-5_2.wav')"
      ]
     },
     "metadata": {},
     "output_type": "display_data"
    },
    {
     "name": "stdout",
     "output_type": "stream",
     "text": [
      "Y: (1764000,)\n",
      "STFT: (3, 33, 640)\n",
      "Preprocessing: 8-2_1.wav\n"
     ]
    },
    {
     "data": {
      "application/vnd.jupyter.widget-view+json": {
       "model_id": "415950cd5be8497ab6e43fc1580e202e",
       "version_major": 2,
       "version_minor": 0
      },
      "text/plain": [
       "IntProgress(value=0, description='Proprocessing', max=6, tooltip='Preprocessing: 8-2_1.wav')"
      ]
     },
     "metadata": {},
     "output_type": "display_data"
    },
    {
     "name": "stdout",
     "output_type": "stream",
     "text": [
      "Y: (1764000,)\n",
      "STFT: (3, 33, 640)\n"
     ]
    }
   ],
   "source": [
    "for mid, music in musics.items():\n",
    "    progress = IntProgress(min=0, max=6)\n",
    "    progress.description = f'Proprocessing'\n",
    "    progress.tooltip = f'Preprocessing: {mid}'\n",
    "    print(f'Preprocessing: {mid}')\n",
    "    display(progress)\n",
    "    \n",
    "    y, sr = music['data'], music['rate']\n",
    "    \n",
    "    # 0:Trim to 40 seconds\n",
    "    y = y[:40*sr]\n",
    "    \n",
    "    # 1: Down-sample\n",
    "    y_2 = librosa.resample(y, orig_sr=sr, target_sr=sr_2)\n",
    "    music['data-low'] = y_2\n",
    "    music['rate-low'] = sr_2\n",
    "    progress.value += 1\n",
    "    \n",
    "    # 2: Decompose\n",
    "    D = librosa.stft(y_2)\n",
    "    H, P= librosa.decompose.hpss(D)\n",
    "    R = D - (H+P)\n",
    "    y_harm = librosa.istft(H)\n",
    "    y_perc = librosa.istft(P)\n",
    "    y_resi = librosa.istft(R)\n",
    "    progress.value += 1\n",
    "    \n",
    "    # 3-5: Caculate STFT\n",
    "    targets = []\n",
    "    for wav in [y_harm, y_perc, y_resi]:\n",
    "        targets.append(librosa.stft(wav, n_fft=n_fft, win_length=win_length, hop_length=hop_length, center=False))\n",
    "        progress.value += 1\n",
    "    \n",
    "    # 6: Set Targets\n",
    "    musics[mid]['targets'] = targets = np.asarray(targets)\n",
    "    print(f'Y: {y.shape}')\n",
    "    print(f'STFT: {targets.shape}')\n",
    "    progress.value += 1\n",
    "    progress.description = 'Done'\n"
   ]
  },
  {
   "cell_type": "markdown",
   "id": "04451d97-aacc-4612-8e84-96c27089fcc1",
   "metadata": {
    "tags": []
   },
   "source": [
    "### Debug"
   ]
  },
  {
   "cell_type": "code",
   "execution_count": 18,
   "id": "d770cfff-9712-4c3c-8f34-c5a7b58fb067",
   "metadata": {
    "tags": []
   },
   "outputs": [],
   "source": [
    "def resample(x, orig_sr=sr_2, target_sr=sr):\n",
    "    return librosa.resample(x, orig_sr=orig_sr, target_sr=target_sr)"
   ]
  },
  {
   "cell_type": "code",
   "execution_count": null,
   "id": "5e2107ea-9fbc-42be-9955-2ac517044c7a",
   "metadata": {
    "tags": []
   },
   "outputs": [],
   "source": [
    "print('Original:')\n",
    "display(Audio(data=y, rate=sr))\n",
    "\n",
    "print('Down-sample:')\n",
    "display(Audio(data=resample(y_2), rate=sr))\n",
    "print('Harmonic:')\n",
    "display(Audio(data=resample(y_harm), rate=sr))\n",
    "print('Percussion:')\n",
    "display(Audio(data=resample(y_perc), rate=sr))\n",
    "print('Residual:')\n",
    "display(Audio(data=resample(y_resi), rate=sr))\n",
    "print(f'STFT: {targets.shape}')\n",
    "print('Inverted STFT:')\n",
    "display(Audio(\n",
    "    data=resample(librosa.istft(targets[0], n_fft=n_fft, win_length=win_length, hop_length=hop_length, center=False)),\n",
    "    rate=sr,\n",
    "))\n",
    "display(Audio(\n",
    "    data=resample(librosa.istft(targets[1], n_fft=n_fft, win_length=win_length, hop_length=hop_length, center=False)),\n",
    "    rate=sr,\n",
    "))\n",
    "display(Audio(\n",
    "    data=resample(librosa.istft(targets[2], n_fft=n_fft, win_length=win_length, hop_length=hop_length, center=False)),\n",
    "    rate=sr,\n",
    "))"
   ]
  },
  {
   "cell_type": "markdown",
   "id": "1be66ec0-7fba-4c1d-a1f3-f500434cbc46",
   "metadata": {
    "tags": []
   },
   "source": [
    "# Save"
   ]
  },
  {
   "cell_type": "code",
   "execution_count": 14,
   "id": "8b447ab4-36c8-49f3-af54-1a4140c69c0f",
   "metadata": {
    "tags": []
   },
   "outputs": [],
   "source": [
    "np.save('ONR_MUSIC.npy', musics, allow_pickle=True)"
   ]
  },
  {
   "cell_type": "code",
   "execution_count": 15,
   "id": "6142d1ad-2ca5-46df-a3f5-d109f30a4a75",
   "metadata": {
    "tags": []
   },
   "outputs": [],
   "source": [
    "# musics = np.load('ONR_MUSIC.npy', allow_pickle=True).item()"
   ]
  }
 ],
 "metadata": {
  "kernelspec": {
   "display_name": "Python 3 (ipykernel)",
   "language": "python",
   "name": "python3"
  },
  "language_info": {
   "codemirror_mode": {
    "name": "ipython",
    "version": 3
   },
   "file_extension": ".py",
   "mimetype": "text/x-python",
   "name": "python",
   "nbconvert_exporter": "python",
   "pygments_lexer": "ipython3",
   "version": "3.11.5"
  }
 },
 "nbformat": 4,
 "nbformat_minor": 5
}
